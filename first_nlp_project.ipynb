{
 "cells": [
  {
   "attachments": {},
   "cell_type": "markdown",
   "metadata": {},
   "source": [
    "# My First NLP Project  \n",
    "\n",
    "My firs NLP project based on the classification of news into real and fake.   \n",
    "\n",
    "Codebasics tutorial video: https://www.youtube.com/watch?v=Yt1Sw6yWjlw&t=170s  \n",
    "\n",
    "Dataset: https://www.kaggle.com/datasets/jillanisofttech/fake-or-real-news"
   ]
  },
  {
   "attachments": {},
   "cell_type": "markdown",
   "metadata": {},
   "source": [
    "# Importing Libraries"
   ]
  },
  {
   "cell_type": "code",
   "execution_count": 1,
   "metadata": {},
   "outputs": [],
   "source": [
    "import pandas as pd \n",
    "import numpy as np \n",
    "\n",
    "import warnings\n",
    "warnings.simplefilter(action='ignore')\n",
    "\n",
    "import opendatasets as od "
   ]
  },
  {
   "attachments": {},
   "cell_type": "markdown",
   "metadata": {},
   "source": [
    "# Importing Data"
   ]
  },
  {
   "cell_type": "code",
   "execution_count": 111,
   "metadata": {},
   "outputs": [
    {
     "name": "stdout",
     "output_type": "stream",
     "text": [
      "Skipping, found downloaded files in \".\\fake-or-real-news\" (use force=True to force download)\n"
     ]
    }
   ],
   "source": [
    "od.download('https://www.kaggle.com/datasets/jillanisofttech/fake-or-real-news')"
   ]
  },
  {
   "cell_type": "code",
   "execution_count": 2,
   "metadata": {},
   "outputs": [
    {
     "data": {
      "text/html": [
       "<div>\n",
       "<style scoped>\n",
       "    .dataframe tbody tr th:only-of-type {\n",
       "        vertical-align: middle;\n",
       "    }\n",
       "\n",
       "    .dataframe tbody tr th {\n",
       "        vertical-align: top;\n",
       "    }\n",
       "\n",
       "    .dataframe thead th {\n",
       "        text-align: right;\n",
       "    }\n",
       "</style>\n",
       "<table border=\"1\" class=\"dataframe\">\n",
       "  <thead>\n",
       "    <tr style=\"text-align: right;\">\n",
       "      <th></th>\n",
       "      <th>title</th>\n",
       "      <th>text</th>\n",
       "      <th>label</th>\n",
       "    </tr>\n",
       "  </thead>\n",
       "  <tbody>\n",
       "    <tr>\n",
       "      <th>0</th>\n",
       "      <td>You Can Smell Hillary’s Fear</td>\n",
       "      <td>Daniel Greenfield, a Shillman Journalism Fello...</td>\n",
       "      <td>FAKE</td>\n",
       "    </tr>\n",
       "    <tr>\n",
       "      <th>1</th>\n",
       "      <td>Watch The Exact Moment Paul Ryan Committed Pol...</td>\n",
       "      <td>Google Pinterest Digg Linkedin Reddit Stumbleu...</td>\n",
       "      <td>FAKE</td>\n",
       "    </tr>\n",
       "    <tr>\n",
       "      <th>2</th>\n",
       "      <td>Kerry to go to Paris in gesture of sympathy</td>\n",
       "      <td>U.S. Secretary of State John F. Kerry said Mon...</td>\n",
       "      <td>REAL</td>\n",
       "    </tr>\n",
       "    <tr>\n",
       "      <th>3</th>\n",
       "      <td>Bernie supporters on Twitter erupt in anger ag...</td>\n",
       "      <td>— Kaydee King (@KaydeeKing) November 9, 2016 T...</td>\n",
       "      <td>FAKE</td>\n",
       "    </tr>\n",
       "    <tr>\n",
       "      <th>4</th>\n",
       "      <td>The Battle of New York: Why This Primary Matters</td>\n",
       "      <td>It's primary day in New York and front-runners...</td>\n",
       "      <td>REAL</td>\n",
       "    </tr>\n",
       "    <tr>\n",
       "      <th>...</th>\n",
       "      <td>...</td>\n",
       "      <td>...</td>\n",
       "      <td>...</td>\n",
       "    </tr>\n",
       "    <tr>\n",
       "      <th>6330</th>\n",
       "      <td>State Department says it can't find emails fro...</td>\n",
       "      <td>The State Department told the Republican Natio...</td>\n",
       "      <td>REAL</td>\n",
       "    </tr>\n",
       "    <tr>\n",
       "      <th>6331</th>\n",
       "      <td>The ‘P’ in PBS Should Stand for ‘Plutocratic’ ...</td>\n",
       "      <td>The ‘P’ in PBS Should Stand for ‘Plutocratic’ ...</td>\n",
       "      <td>FAKE</td>\n",
       "    </tr>\n",
       "    <tr>\n",
       "      <th>6332</th>\n",
       "      <td>Anti-Trump Protesters Are Tools of the Oligarc...</td>\n",
       "      <td>Anti-Trump Protesters Are Tools of the Oligar...</td>\n",
       "      <td>FAKE</td>\n",
       "    </tr>\n",
       "    <tr>\n",
       "      <th>6333</th>\n",
       "      <td>In Ethiopia, Obama seeks progress on peace, se...</td>\n",
       "      <td>ADDIS ABABA, Ethiopia —President Obama convene...</td>\n",
       "      <td>REAL</td>\n",
       "    </tr>\n",
       "    <tr>\n",
       "      <th>6334</th>\n",
       "      <td>Jeb Bush Is Suddenly Attacking Trump. Here's W...</td>\n",
       "      <td>Jeb Bush Is Suddenly Attacking Trump. Here's W...</td>\n",
       "      <td>REAL</td>\n",
       "    </tr>\n",
       "  </tbody>\n",
       "</table>\n",
       "<p>6335 rows × 3 columns</p>\n",
       "</div>"
      ],
      "text/plain": [
       "                                                  title  \\\n",
       "0                          You Can Smell Hillary’s Fear   \n",
       "1     Watch The Exact Moment Paul Ryan Committed Pol...   \n",
       "2           Kerry to go to Paris in gesture of sympathy   \n",
       "3     Bernie supporters on Twitter erupt in anger ag...   \n",
       "4      The Battle of New York: Why This Primary Matters   \n",
       "...                                                 ...   \n",
       "6330  State Department says it can't find emails fro...   \n",
       "6331  The ‘P’ in PBS Should Stand for ‘Plutocratic’ ...   \n",
       "6332  Anti-Trump Protesters Are Tools of the Oligarc...   \n",
       "6333  In Ethiopia, Obama seeks progress on peace, se...   \n",
       "6334  Jeb Bush Is Suddenly Attacking Trump. Here's W...   \n",
       "\n",
       "                                                   text label  \n",
       "0     Daniel Greenfield, a Shillman Journalism Fello...  FAKE  \n",
       "1     Google Pinterest Digg Linkedin Reddit Stumbleu...  FAKE  \n",
       "2     U.S. Secretary of State John F. Kerry said Mon...  REAL  \n",
       "3     — Kaydee King (@KaydeeKing) November 9, 2016 T...  FAKE  \n",
       "4     It's primary day in New York and front-runners...  REAL  \n",
       "...                                                 ...   ...  \n",
       "6330  The State Department told the Republican Natio...  REAL  \n",
       "6331  The ‘P’ in PBS Should Stand for ‘Plutocratic’ ...  FAKE  \n",
       "6332   Anti-Trump Protesters Are Tools of the Oligar...  FAKE  \n",
       "6333  ADDIS ABABA, Ethiopia —President Obama convene...  REAL  \n",
       "6334  Jeb Bush Is Suddenly Attacking Trump. Here's W...  REAL  \n",
       "\n",
       "[6335 rows x 3 columns]"
      ]
     },
     "execution_count": 2,
     "metadata": {},
     "output_type": "execute_result"
    }
   ],
   "source": [
    "df = pd.read_csv('./fake-or-real-news/fake_or_real_news.csv').drop(columns='Unnamed: 0')\n",
    "\n",
    "df"
   ]
  },
  {
   "attachments": {},
   "cell_type": "markdown",
   "metadata": {},
   "source": [
    "# Feature Engineering "
   ]
  },
  {
   "attachments": {},
   "cell_type": "markdown",
   "metadata": {},
   "source": [
    "Changing the label into 0 and 1 where:  \n",
    "\n",
    "**0** --> real news  \n",
    "**1** --> fake news"
   ]
  },
  {
   "cell_type": "code",
   "execution_count": 3,
   "metadata": {},
   "outputs": [
    {
     "data": {
      "text/html": [
       "<div>\n",
       "<style scoped>\n",
       "    .dataframe tbody tr th:only-of-type {\n",
       "        vertical-align: middle;\n",
       "    }\n",
       "\n",
       "    .dataframe tbody tr th {\n",
       "        vertical-align: top;\n",
       "    }\n",
       "\n",
       "    .dataframe thead th {\n",
       "        text-align: right;\n",
       "    }\n",
       "</style>\n",
       "<table border=\"1\" class=\"dataframe\">\n",
       "  <thead>\n",
       "    <tr style=\"text-align: right;\">\n",
       "      <th></th>\n",
       "      <th>title</th>\n",
       "      <th>text</th>\n",
       "      <th>label</th>\n",
       "    </tr>\n",
       "  </thead>\n",
       "  <tbody>\n",
       "    <tr>\n",
       "      <th>0</th>\n",
       "      <td>You Can Smell Hillary’s Fear</td>\n",
       "      <td>Daniel Greenfield, a Shillman Journalism Fello...</td>\n",
       "      <td>1</td>\n",
       "    </tr>\n",
       "    <tr>\n",
       "      <th>1</th>\n",
       "      <td>Watch The Exact Moment Paul Ryan Committed Pol...</td>\n",
       "      <td>Google Pinterest Digg Linkedin Reddit Stumbleu...</td>\n",
       "      <td>1</td>\n",
       "    </tr>\n",
       "    <tr>\n",
       "      <th>2</th>\n",
       "      <td>Kerry to go to Paris in gesture of sympathy</td>\n",
       "      <td>U.S. Secretary of State John F. Kerry said Mon...</td>\n",
       "      <td>0</td>\n",
       "    </tr>\n",
       "    <tr>\n",
       "      <th>3</th>\n",
       "      <td>Bernie supporters on Twitter erupt in anger ag...</td>\n",
       "      <td>— Kaydee King (@KaydeeKing) November 9, 2016 T...</td>\n",
       "      <td>1</td>\n",
       "    </tr>\n",
       "    <tr>\n",
       "      <th>4</th>\n",
       "      <td>The Battle of New York: Why This Primary Matters</td>\n",
       "      <td>It's primary day in New York and front-runners...</td>\n",
       "      <td>0</td>\n",
       "    </tr>\n",
       "    <tr>\n",
       "      <th>...</th>\n",
       "      <td>...</td>\n",
       "      <td>...</td>\n",
       "      <td>...</td>\n",
       "    </tr>\n",
       "    <tr>\n",
       "      <th>6330</th>\n",
       "      <td>State Department says it can't find emails fro...</td>\n",
       "      <td>The State Department told the Republican Natio...</td>\n",
       "      <td>0</td>\n",
       "    </tr>\n",
       "    <tr>\n",
       "      <th>6331</th>\n",
       "      <td>The ‘P’ in PBS Should Stand for ‘Plutocratic’ ...</td>\n",
       "      <td>The ‘P’ in PBS Should Stand for ‘Plutocratic’ ...</td>\n",
       "      <td>1</td>\n",
       "    </tr>\n",
       "    <tr>\n",
       "      <th>6332</th>\n",
       "      <td>Anti-Trump Protesters Are Tools of the Oligarc...</td>\n",
       "      <td>Anti-Trump Protesters Are Tools of the Oligar...</td>\n",
       "      <td>1</td>\n",
       "    </tr>\n",
       "    <tr>\n",
       "      <th>6333</th>\n",
       "      <td>In Ethiopia, Obama seeks progress on peace, se...</td>\n",
       "      <td>ADDIS ABABA, Ethiopia —President Obama convene...</td>\n",
       "      <td>0</td>\n",
       "    </tr>\n",
       "    <tr>\n",
       "      <th>6334</th>\n",
       "      <td>Jeb Bush Is Suddenly Attacking Trump. Here's W...</td>\n",
       "      <td>Jeb Bush Is Suddenly Attacking Trump. Here's W...</td>\n",
       "      <td>0</td>\n",
       "    </tr>\n",
       "  </tbody>\n",
       "</table>\n",
       "<p>6335 rows × 3 columns</p>\n",
       "</div>"
      ],
      "text/plain": [
       "                                                  title  \\\n",
       "0                          You Can Smell Hillary’s Fear   \n",
       "1     Watch The Exact Moment Paul Ryan Committed Pol...   \n",
       "2           Kerry to go to Paris in gesture of sympathy   \n",
       "3     Bernie supporters on Twitter erupt in anger ag...   \n",
       "4      The Battle of New York: Why This Primary Matters   \n",
       "...                                                 ...   \n",
       "6330  State Department says it can't find emails fro...   \n",
       "6331  The ‘P’ in PBS Should Stand for ‘Plutocratic’ ...   \n",
       "6332  Anti-Trump Protesters Are Tools of the Oligarc...   \n",
       "6333  In Ethiopia, Obama seeks progress on peace, se...   \n",
       "6334  Jeb Bush Is Suddenly Attacking Trump. Here's W...   \n",
       "\n",
       "                                                   text  label  \n",
       "0     Daniel Greenfield, a Shillman Journalism Fello...      1  \n",
       "1     Google Pinterest Digg Linkedin Reddit Stumbleu...      1  \n",
       "2     U.S. Secretary of State John F. Kerry said Mon...      0  \n",
       "3     — Kaydee King (@KaydeeKing) November 9, 2016 T...      1  \n",
       "4     It's primary day in New York and front-runners...      0  \n",
       "...                                                 ...    ...  \n",
       "6330  The State Department told the Republican Natio...      0  \n",
       "6331  The ‘P’ in PBS Should Stand for ‘Plutocratic’ ...      1  \n",
       "6332   Anti-Trump Protesters Are Tools of the Oligar...      1  \n",
       "6333  ADDIS ABABA, Ethiopia —President Obama convene...      0  \n",
       "6334  Jeb Bush Is Suddenly Attacking Trump. Here's W...      0  \n",
       "\n",
       "[6335 rows x 3 columns]"
      ]
     },
     "execution_count": 3,
     "metadata": {},
     "output_type": "execute_result"
    }
   ],
   "source": [
    "df['label'] = df.label.map({'FAKE':1, 'REAL':0}) \n",
    "\n",
    "df"
   ]
  },
  {
   "attachments": {},
   "cell_type": "markdown",
   "metadata": {},
   "source": [
    "Storing two news separately to make a test on them later."
   ]
  },
  {
   "cell_type": "code",
   "execution_count": 114,
   "metadata": {},
   "outputs": [
    {
     "data": {
      "text/plain": [
       "'The ‘P’ in PBS Should Stand for ‘Plutocratic’ or ‘Pentagon’ Posted on Oct 27, 2016 ( WikiMedia ) \\nIn a television commercial that the Public Broadcasting System (PBS) ran for years, “PBS NewsHour” host Gwen Ifill declared that she loved her job because it allowed her to “ask not only all of my questions but also and more importantly all of your questions .” This assertion was and remains absurd, just like her network’s regular fundraising claim to be free of corporate sponsors. \\nThe claim has long been contradicted by the string of corporate-image commercials (purchased by leading financial, defense, auto, insurance and rail corporations) that appear before the network’s nightly “NewsHour” broadcast—along with a list of corporate-sponsored foundations and superwealthy individuals who pay for the show, along with “regular viewers like you.” \\nConsistent with those commercials and despite its name, the news and commentary one finds on PBS is in rich tune with the narrow capitalist parameters of acceptable coverage and debate that typify the more fully and explicitly for-profit and commercialized corporate media. As progressive journalist David Sirota suggested two years ago , reflecting on recent investigations showing that supermoneyed, right-wing capitalists such as the Koch brothers and Texas billionaire John Arnold had (along with more liberal software mogul Bill Gates) influenced PBS content through multimillion-dollar donations, the “P” in PBS often seems to more properly stand for “Plutocratic,” not “Public.” \\nAdvertisement Square, Site wide \\nNone of this should be surprising to anyone familiar with the distinctively big-business-dominated history of U.S. broadcast media . Because the United States fails to provide anything like adequate funding for public broadcasting, both PBS and National Public Radio (a regular vehicle for neoliberal business ideology) depend upon foundations, corporations and wealthy individuals to pay for much of their programming. Beneath their standard claims to have no interest in shaping public media content, these private funders have bottom-line agendas, meaning that their contributions come with strings attached—strings that undermine the integrity of the “independent” journalism they bankroll. (For what it’s worth, between 1994 and 2014, the “NewsHour” was primarily owned by the for-profit firm Liberty Media . Liberty Media was run by the conservative and politically active billionaire John Malone, who had a majority stake in MacNeil/Lehrer Productions, the show’s producer.) \\nThe Pentagon Broadcasting System? \\nWhat might seem more surprising, perhaps, is the remarkable extent to which the “P” in PBS often seems to stand for “Pentagon,” or perhaps “Presidential,” when it comes to foreign policy content. Whatever the global issue of the day or week, “NewsHour” anchors and their invited “experts” can be counted on to report and reflect in accord with the doctrinal assumption that Washington always operates with the best of intentions. They almost uniformly treat the U.S. as a great, benevolent and indispensable force for freedom, democracy, security, peace and order in a dangerous world full of evil and deadly actors. \\nThe show’s invited commentators are drawn primarily from the nation’s imperial establishment. They are commonly current or retired insiders from within the Pentagon, the White House, the “intelligence community” and/or the nation’s elite network of foreign policy think tanks: the Council on Foreign Relations (the granddaddy of all U.S. ruling-class think tanks ), the Carnegie Endowment for International Peace, the Aspen Institute, the Atlantic Council, the Rand Corp. and the Hoover Institution, to name a handful. “NewsHour” anchors and guests generally agree that the United States’ officially designated enemies are malevolent bad guys who need to be contained, controlled and even attacked by the ultimate good guy, Uncle Sam. \\nNot surprisingly, the long and ongoing record of U.S. imperial arrogance and criminality (more on that below) is swept down George Orwell’s memory hole even as new entries are added to the ugly registry. When reported by the “NewsHour,” horrific crimes committed by the U.S. military are always treated as well-intended mistakes. Along with the rest of the mainstream U.S. media, the “NewsHour” “insist[s] that Russia deliberately bombs hospitals, etc., whereas if we do it, it is, of course, an accident .” \\nThere’s some room for disagreement between and among the show’s invited experts—including the show’s semi-loopy foreign policy authority, Margaret Warner—about specific U.S. foreign policy tactics, strategies and actions. There’s no space for serious debate about the immorality, lawlessness or imperial nature of that policy. On the rare occasions “NewsHour” anchors seem to challenge guests from the White House or Pentagon on foreign policy matters, it is generally to ask why the U.S. isn’t going harder at the officially certified bad guys. \\nAmerica as Umpire, Not Empire \\nThe foreign policy coverage and commentary doesn’t get much better in the documentary division of PBS. A recent documentary (first aired nationally last week) shown by PBS bears the risible title “American Umpire”—an obvious World Series season play on what the filmmakers see as the preposterous notion of an American empire. It is narrated by ex-Marine and former “NewsHour” host and producer Jim Lehrer. Developed by the right-wing Hoover Institution and “targeted for PBS” (the organization’s own revealing phrase), “American Umpire” takes the doctrinal “American exceptionalist,” U.S.-good-and-civilized-rest-of-world-dangerous-and-bad narrative to absurd lengths. \\nIt provides extensive “expert” commentary from such former imperial operatives as Madeline Albright (the onetime U.S. secretary of state who led the charge to criminally bomb Serbia and who went on CBS’ “60 Minutes” to say that the death of more than half a million Iraqi children killed by Washington-led “economic sanctions” was “a price worth paying” for the advance of U.S. foreign policy goals), Condoleezza Rice (George W. Bush’s neoconservative national security adviser before and during the arch-criminal U.S. invasion of Iraq), Gen. Jim “Mad Dog” Mattis (an Iraq invasion commander and a former chief of the U.S. Central Command, who two years ago told a San Diego audience that “it’s fun to shoot people”), George Schultz (the Reagan-era secretary of state who called the Sandinista government in Nicaragua “a cancer in our own land mass” that must be “cut out”) and Karl Eikenberry (a retired Army lieutenant general who commanded U.S. forces in Afghanistan 10 years ago). \\nWith further commentary from a handful of mostly conservative academicians—above all the nationalist Texas A&M historian Elizabeth Cobbs ( author of a book on which the documentary is based), “American Umpire” portrays 20th and 21st century U.S. foreign policy as nothing more than a noble effort to selflessly provide welcome and fair rules and discipline on the rest of a childish, dangerous and reckless planet (think “Lord of the Flies”) that lacks the exceptional historical experience bequeathed to U.S. leaders by the nation’s far-seeing Founding Fathers. The only substantive criticism of U.S. foreign policy in “American Umpire” is the complaint, voiced by numerous interview subjects, that America harms itself to the benefit of others (the Europeans above all) by taking upon its shoulders too much of the burden of benevolently policing the planet. We are just too good for our own good. \\nOur Real Task \\nThere is not space here to discuss in responsible detail the epic historical deletions and distortions this narrative imposes. The omissions are staggering. They range from the slaughter of hundreds of thousands of Filipinos resisting U.S. imperial invasion and occupation at the last century’s outset to the restoration of de facto slavery in Haiti and the Dominican Republic after World War I; the unnecessary atom bombing of Hiroshima and, even worse, of Nagasaki (really the first shots of the Cold War ); the toppling of more than 50 governments by U.S. coups and invasions since the end of World War II; the liquidation of perhaps as many as 5 million Southeast Asians in the so-called Vietnam War between 1962 and 1975; the Cold War-era sponsorship of Third World fascism from Chile to South Africa and Indonesia; the attempted assassinations of Fidel Castro and numerous CIA-directed terror bombings in socialist Cuba; the near instigation of global thermonuclear war on at least three occasions; the development and sponsorship of Osama bin Laden and other radically arch-reactionary, jihadist Muslim, paramilitary forces to fight the Cold War against the Soviet Union in Afghanistan; the “Highway of Death,” when U.S. warplanes engaged in an aerial traffic jam as they rushed to slaughter tens of thousands of surrendered Iraqi troops retreating from Iraq in 1991; the coordination and sponsorship of a mass-murderous civil war on peasants, workers and intellectuals (with a death toll well into the many hundreds of thousands) in Central America during the 1970s and 1980s; the disastrous U.S. invasion of Iraq (responsible for at least 1 million Iraqi deaths); the calamitous U.S. toppling of the Libyan Gadhafi regime; the calamitous destabilization of the Syrian regime; the U.S. funding and encouragement of civil war in central Africa; the enablement and protection of a vicious right-wing coup in Honduras in the spring and summer of 2009; the criminal U.S. global war of terror, replete with rampant “targeted assassinations,” torture, illegal renditions, endless drone war and special-forces killing operations across the Muslim world and other places as well. \\n“American Umpire” hides these horrific transgressions and the imperial calculations behind much of U.S. foreign policy past and present. As numerous key U.S. planning documents reveal over and over, the goal of that policy was to maintain and, if necessary, install governments that “favor[ed] private investment of domestic and foreign capital, production for export, and the right to bring profits out of the country.” Given the United States’ remarkable possession of half the world’s capital after World War II, Washington elites had no doubt that U.S. investors and corporations would profit the most. Internally, the basic, selfish, national and imperial objectives were openly and candidly discussed. As the “liberal” and “dovish” imperialist, top State Department planner and key Cold War architect George F. Kennan explained in Policy Planning Study 23, a critical 1948 document: “We have about 50% of the world’s wealth, but only 6.3% of its population. … In this situation, we cannot fail to be the object of envy and resentment. Our real task in the coming period is to devise a pattern of relationships which will permit us to maintain this position of disparity. … To do so, we will have to dispense with all sentimentality and day-dreaming. ... The less we are then hampered by idealistic slogans, the better.” \\nThe necessity of dispensing with “human rights” and other “sentimental” and “unreal objectives” was especially pressing in the “global south.” Washington assigned the vast periphery of the world economic (capitalist) system—Africa, Latin America, Southeast Asia and the energy-rich and thus strategically hypersignificant Middle East—a less than flattering role. It was to “fulfill its major function as a source of raw materials and a market” ( actual State Department language ) for the great industrial (capitalist) nations (excluding “socialist” Russia and its satellites). It was to be exploited both for the benefit of U.S. corporations/investors and for the reconstruction of Europe and Japan as prosperous U.S. trading and investment partners organized on properly capitalist principles that were hostile to the Soviet bloc. \\n“Democracy” was fine as a slogan and benevolent, idealistic-sounding mission statement when it came to marketing this core, underlying, ultra-imperialist U.S. policy at home and abroad. Because most people in the “Third World” had no interest in neocolonial subordination and subscribed to what U.S. intelligence officials considered the heretical “idea that government has direct responsibility for the welfare of its people” (what post-World War II U.S. planners called “communism”), Washington’s real-life commitment to popular governance abroad was strictly qualified, to say the least. “Democracy” was suitable to the U.S. as long as its outcomes comported with the interests of U.S. investors/corporations and related U.S. geopolitical objectives. It had to be abandoned, undermined and/or crushed when it threatened those investors/corporations and the broader imperatives of business rule to any significant degree. As President Richard Nixon’s coldblooded National Security Adviser Henry Kissinger explained in June 1970, three years before the U.S. sponsored a fascist coup that overthrew Chile’s democratically elected leftist President Salvador Allende, “I don’t see why we need to stand by and watch a country go Communist because of the irresponsibility of its own people.” \\nThe selfish imperial cynicism of U.S. foreign policy continues to this day, into the post-Cold War and post-9/11 era. As leading Dutch political scientists Bastiaann van Apeldoorn and Nana de Graaff write in their important new volume , “American Grand Strategy and Corporate Elite Networks: The Open Door Since the End of the Cold War,” “From the end of the 19th nineteenth century onward, American grand strategy has pursued a liberal expansionism aimed at the creation of a global hegemony premised upon open, “free” markets, to which global capital—and, above all, U.S. transnational capital—has full access. … The global Open Door has continued to define the ends of the American grand strategy throughout the post-Cold War era.” Because—as during and before—the Cold War’s end, Washington’s commitment to “democracy” and “human rights” is conditional and hypocritical: The noble principles are fine insofar as they serve the free-market hegemony of global and especially U.S. transnational capital. They are dispensed with, even as U.S. policymakers trumpet them, when they do not.'"
      ]
     },
     "execution_count": 114,
     "metadata": {},
     "output_type": "execute_result"
    }
   ],
   "source": [
    "df.loc[6331, 'text']"
   ]
  },
  {
   "cell_type": "code",
   "execution_count": 115,
   "metadata": {},
   "outputs": [
    {
     "data": {
      "text/plain": [
       "'The State Department told the Republican National Committee that it could not find any emails to or from Hillary Clinton\\'s former IT specialist, who managed her private email server during her tenure as secretary of state before going on to work for the agency, according to a court filing made public Monday.\\n\\n\\n\\nThe government\\'s revelation in U.S. District Court in Washington came in answer to a lawsuit by the Republican National Committee. The RNC had sued over its public records request for all work-related emails sent to or received by Clinton\\'s former aide, Bryan Pagliano, between 2009 and 2013, the years of Clinton\\'s tenure as America\\'s top diplomat. The lawsuit also pressed for other State Department records from the Clinton era.\\n\\nThe RNC\\'s filing said lawyers for the agency had informed them in discussions that \"the State Department has represented that no responsive records exist\" for any Pagliano emails. Pagliano was hired at the agency after reportedly setting up Clinton\\'s server in 2009, but the lack of any official State Department emails raises the question whether he limited his email traffic using a private account, much like Clinton did during her four years as secretary, or whether his government emails were deleted.\\n\\n\\n\\nA State Department official said Monday that the agency possessed emails from Pagliano from the period after Clinton\\'s term had ended, when he continued to work as a technology contractor.\\n\\nAgency spokeswoman Elizabeth Trudeau then added Monday evening that some Pagliano emails dating from Clinton\\'s tenure had been recovered from agency officials\\' files and turned over to other organizations, including Senate investigators.\\n\\n\\n\\n\"We have previously produced through FOIA and to Congress emails sent and received by Mr. Pagliano during Secretary Clinton\\'s tenure,\" Trudeau said in a public statement. At least one email, which was sent in November 2012 to Clinton from Pagliano -- but possibly from his private email address -- was released as part of 30,000 Clinton emails made public by the agency over the past year.\\n\\n\\n\\nA spokesman for the RNC said the organization stood by its description of the discussions with lawyers for the State Department. The group said in its filing that \"the State Department has represented that no responsive records exist.\"\\n\\n\\n\\nRaj Shah, the RNC spokesman, added, \"It\\'s hard to believe that an IT staffer who set up Hillary Clinton\\'s reckless email server never sent or received a single work-related email in the four years he worked at the State Department.\" Clinton\\'s campaign officials declined to comment in response to questions from The Associated Press.\\n\\n\\n\\nTrudeau said the State Department is working with Congress and several public records requesters to provide relevant material. She also said agency officials continue to search for \"Mr. Pagliano\\'s emails, which the department may have otherwise retained.\" Trudeau also said the department would respond further to the RNC in court.\\n\\n\\n\\nState Department officials told Senate investigators last year they could not find a file containing Pagliano\\'s work emails during Clinton\\'s tenure, an assertion first reported by Politico.\\n\\n\\n\\nFox News reported in March that Pagliano has revealed several details about Clinton\\'s personal email system to investigators, including\\xa0who had access to it– as well as when and what devices were used. An intelligence source close to the case told Fox News that Pagliano has been a \"devastating witness\" to Clinton.\\n\\nThe one email sent by Pagliano that surfaced among Clinton\\'s 30,000 emails was sent to Clinton was a November 2012 birthday greeting. He wished her \"Happy Birthday Madam Secretary. To many more!\"\\n\\n\\n\\nPagliano\\'s email address was censored, unlike numerous official State Department addresses that are listed in Clinton\\'s emails -- suggesting he may have sent the message from a private address.\\n\\nClinton did not reply directly to Pagliano. Instead, she sent a copy of an email to an aide with the instruction \"Pls respond.\"\\n\\n \\n\\n The Associated Press contributed to this report.'"
      ]
     },
     "execution_count": 115,
     "metadata": {},
     "output_type": "execute_result"
    }
   ],
   "source": [
    "df.loc[6330,'text']"
   ]
  },
  {
   "cell_type": "code",
   "execution_count": 116,
   "metadata": {},
   "outputs": [],
   "source": [
    "news = [\n",
    "    'The State Department told the Republican National Committee that it could not find any emails to or from Hillary Clinton\\'s former IT specialist, who managed her private email server during her tenure as secretary of state before going on to work for the agency, according to a court filing made public Monday.\\n\\n\\n\\nThe government\\'s revelation in U.S. District Court in Washington came in answer to a lawsuit by the Republican National Committee. The RNC had sued over its public records request for all work-related emails sent to or received by Clinton\\'s former aide, Bryan Pagliano, between 2009 and 2013, the years of Clinton\\'s tenure as America\\'s top diplomat. The lawsuit also pressed for other State Department records from the Clinton era.\\n\\nThe RNC\\'s filing said lawyers for the agency had informed them in discussions that \"the State Department has represented that no responsive records exist\" for any Pagliano emails. Pagliano was hired at the agency after reportedly setting up Clinton\\'s server in 2009, but the lack of any official State Department emails raises the question whether he limited his email traffic using a private account, much like Clinton did during her four years as secretary, or whether his government emails were deleted.\\n\\n\\n\\nA State Department official said Monday that the agency possessed emails from Pagliano from the period after Clinton\\'s term had ended, when he continued to work as a technology contractor.\\n\\nAgency spokeswoman Elizabeth Trudeau then added Monday evening that some Pagliano emails dating from Clinton\\'s tenure had been recovered from agency officials\\' files and turned over to other organizations, including Senate investigators.\\n\\n\\n\\n\"We have previously produced through FOIA and to Congress emails sent and received by Mr. Pagliano during Secretary Clinton\\'s tenure,\" Trudeau said in a public statement. At least one email, which was sent in November 2012 to Clinton from Pagliano -- but possibly from his private email address -- was released as part of 30,000 Clinton emails made public by the agency over the past year.\\n\\n\\n\\nA spokesman for the RNC said the organization stood by its description of the discussions with lawyers for the State Department. The group said in its filing that \"the State Department has represented that no responsive records exist.\"\\n\\n\\n\\nRaj Shah, the RNC spokesman, added, \"It\\'s hard to believe that an IT staffer who set up Hillary Clinton\\'s reckless email server never sent or received a single work-related email in the four years he worked at the State Department.\" Clinton\\'s campaign officials declined to comment in response to questions from The Associated Press.\\n\\n\\n\\nTrudeau said the State Department is working with Congress and several public records requesters to provide relevant material. She also said agency officials continue to search for \"Mr. Pagliano\\'s emails, which the department may have otherwise retained.\" Trudeau also said the department would respond further to the RNC in court.\\n\\n\\n\\nState Department officials told Senate investigators last year they could not find a file containing Pagliano\\'s work emails during Clinton\\'s tenure, an assertion first reported by Politico.\\n\\n\\n\\nFox News reported in March that Pagliano has revealed several details about Clinton\\'s personal email system to investigators, including\\xa0who had access to it– as well as when and what devices were used. An intelligence source close to the case told Fox News that Pagliano has been a \"devastating witness\" to Clinton.\\n\\nThe one email sent by Pagliano that surfaced among Clinton\\'s 30,000 emails was sent to Clinton was a November 2012 birthday greeting. He wished her \"Happy Birthday Madam Secretary. To many more!\"\\n\\n\\n\\nPagliano\\'s email address was censored, unlike numerous official State Department addresses that are listed in Clinton\\'s emails -- suggesting he may have sent the message from a private address.\\n\\nClinton did not reply directly to Pagliano. Instead, she sent a copy of an email to an aide with the instruction \"Pls respond.\"\\n\\n \\n\\n The Associated Press contributed to this report.',\n",
    "    'The ‘P’ in PBS Should Stand for ‘Plutocratic’ or ‘Pentagon’ Posted on Oct 27, 2016 ( WikiMedia ) \\nIn a television commercial that the Public Broadcasting System (PBS) ran for years, “PBS NewsHour” host Gwen Ifill declared that she loved her job because it allowed her to “ask not only all of my questions but also and more importantly all of your questions .” This assertion was and remains absurd, just like her network’s regular fundraising claim to be free of corporate sponsors. \\nThe claim has long been contradicted by the string of corporate-image commercials (purchased by leading financial, defense, auto, insurance and rail corporations) that appear before the network’s nightly “NewsHour” broadcast—along with a list of corporate-sponsored foundations and superwealthy individuals who pay for the show, along with “regular viewers like you.” \\nConsistent with those commercials and despite its name, the news and commentary one finds on PBS is in rich tune with the narrow capitalist parameters of acceptable coverage and debate that typify the more fully and explicitly for-profit and commercialized corporate media. As progressive journalist David Sirota suggested two years ago , reflecting on recent investigations showing that supermoneyed, right-wing capitalists such as the Koch brothers and Texas billionaire John Arnold had (along with more liberal software mogul Bill Gates) influenced PBS content through multimillion-dollar donations, the “P” in PBS often seems to more properly stand for “Plutocratic,” not “Public.” \\nAdvertisement Square, Site wide \\nNone of this should be surprising to anyone familiar with the distinctively big-business-dominated history of U.S. broadcast media . Because the United States fails to provide anything like adequate funding for public broadcasting, both PBS and National Public Radio (a regular vehicle for neoliberal business ideology) depend upon foundations, corporations and wealthy individuals to pay for much of their programming. Beneath their standard claims to have no interest in shaping public media content, these private funders have bottom-line agendas, meaning that their contributions come with strings attached—strings that undermine the integrity of the “independent” journalism they bankroll. (For what it’s worth, between 1994 and 2014, the “NewsHour” was primarily owned by the for-profit firm Liberty Media . Liberty Media was run by the conservative and politically active billionaire John Malone, who had a majority stake in MacNeil/Lehrer Productions, the show’s producer.) \\nThe Pentagon Broadcasting System? \\nWhat might seem more surprising, perhaps, is the remarkable extent to which the “P” in PBS often seems to stand for “Pentagon,” or perhaps “Presidential,” when it comes to foreign policy content. Whatever the global issue of the day or week, “NewsHour” anchors and their invited “experts” can be counted on to report and reflect in accord with the doctrinal assumption that Washington always operates with the best of intentions. They almost uniformly treat the U.S. as a great, benevolent and indispensable force for freedom, democracy, security, peace and order in a dangerous world full of evil and deadly actors. \\nThe show’s invited commentators are drawn primarily from the nation’s imperial establishment. They are commonly current or retired insiders from within the Pentagon, the White House, the “intelligence community” and/or the nation’s elite network of foreign policy think tanks: the Council on Foreign Relations (the granddaddy of all U.S. ruling-class think tanks ), the Carnegie Endowment for International Peace, the Aspen Institute, the Atlantic Council, the Rand Corp. and the Hoover Institution, to name a handful. “NewsHour” anchors and guests generally agree that the United States’ officially designated enemies are malevolent bad guys who need to be contained, controlled and even attacked by the ultimate good guy, Uncle Sam. \\nNot surprisingly, the long and ongoing record of U.S. imperial arrogance and criminality (more on that below) is swept down George Orwell’s memory hole even as new entries are added to the ugly registry. When reported by the “NewsHour,” horrific crimes committed by the U.S. military are always treated as well-intended mistakes. Along with the rest of the mainstream U.S. media, the “NewsHour” “insist[s] that Russia deliberately bombs hospitals, etc., whereas if we do it, it is, of course, an accident .” \\nThere’s some room for disagreement between and among the show’s invited experts—including the show’s semi-loopy foreign policy authority, Margaret Warner—about specific U.S. foreign policy tactics, strategies and actions. There’s no space for serious debate about the immorality, lawlessness or imperial nature of that policy. On the rare occasions “NewsHour” anchors seem to challenge guests from the White House or Pentagon on foreign policy matters, it is generally to ask why the U.S. isn’t going harder at the officially certified bad guys. \\nAmerica as Umpire, Not Empire \\nThe foreign policy coverage and commentary doesn’t get much better in the documentary division of PBS. A recent documentary (first aired nationally last week) shown by PBS bears the risible title “American Umpire”—an obvious World Series season play on what the filmmakers see as the preposterous notion of an American empire. It is narrated by ex-Marine and former “NewsHour” host and producer Jim Lehrer. Developed by the right-wing Hoover Institution and “targeted for PBS” (the organization’s own revealing phrase), “American Umpire” takes the doctrinal “American exceptionalist,” U.S.-good-and-civilized-rest-of-world-dangerous-and-bad narrative to absurd lengths. \\nIt provides extensive “expert” commentary from such former imperial operatives as Madeline Albright (the onetime U.S. secretary of state who led the charge to criminally bomb Serbia and who went on CBS’ “60 Minutes” to say that the death of more than half a million Iraqi children killed by Washington-led “economic sanctions” was “a price worth paying” for the advance of U.S. foreign policy goals), Condoleezza Rice (George W. Bush’s neoconservative national security adviser before and during the arch-criminal U.S. invasion of Iraq), Gen. Jim “Mad Dog” Mattis (an Iraq invasion commander and a former chief of the U.S. Central Command, who two years ago told a San Diego audience that “it’s fun to shoot people”), George Schultz (the Reagan-era secretary of state who called the Sandinista government in Nicaragua “a cancer in our own land mass” that must be “cut out”) and Karl Eikenberry (a retired Army lieutenant general who commanded U.S. forces in Afghanistan 10 years ago). \\nWith further commentary from a handful of mostly conservative academicians—above all the nationalist Texas A&M historian Elizabeth Cobbs ( author of a book on which the documentary is based), “American Umpire” portrays 20th and 21st century U.S. foreign policy as nothing more than a noble effort to selflessly provide welcome and fair rules and discipline on the rest of a childish, dangerous and reckless planet (think “Lord of the Flies”) that lacks the exceptional historical experience bequeathed to U.S. leaders by the nation’s far-seeing Founding Fathers. The only substantive criticism of U.S. foreign policy in “American Umpire” is the complaint, voiced by numerous interview subjects, that America harms itself to the benefit of others (the Europeans above all) by taking upon its shoulders too much of the burden of benevolently policing the planet. We are just too good for our own good. \\nOur Real Task \\nThere is not space here to discuss in responsible detail the epic historical deletions and distortions this narrative imposes. The omissions are staggering. They range from the slaughter of hundreds of thousands of Filipinos resisting U.S. imperial invasion and occupation at the last century’s outset to the restoration of de facto slavery in Haiti and the Dominican Republic after World War I; the unnecessary atom bombing of Hiroshima and, even worse, of Nagasaki (really the first shots of the Cold War ); the toppling of more than 50 governments by U.S. coups and invasions since the end of World War II; the liquidation of perhaps as many as 5 million Southeast Asians in the so-called Vietnam War between 1962 and 1975; the Cold War-era sponsorship of Third World fascism from Chile to South Africa and Indonesia; the attempted assassinations of Fidel Castro and numerous CIA-directed terror bombings in socialist Cuba; the near instigation of global thermonuclear war on at least three occasions; the development and sponsorship of Osama bin Laden and other radically arch-reactionary, jihadist Muslim, paramilitary forces to fight the Cold War against the Soviet Union in Afghanistan; the “Highway of Death,” when U.S. warplanes engaged in an aerial traffic jam as they rushed to slaughter tens of thousands of surrendered Iraqi troops retreating from Iraq in 1991; the coordination and sponsorship of a mass-murderous civil war on peasants, workers and intellectuals (with a death toll well into the many hundreds of thousands) in Central America during the 1970s and 1980s; the disastrous U.S. invasion of Iraq (responsible for at least 1 million Iraqi deaths); the calamitous U.S. toppling of the Libyan Gadhafi regime; the calamitous destabilization of the Syrian regime; the U.S. funding and encouragement of civil war in central Africa; the enablement and protection of a vicious right-wing coup in Honduras in the spring and summer of 2009; the criminal U.S. global war of terror, replete with rampant “targeted assassinations,” torture, illegal renditions, endless drone war and special-forces killing operations across the Muslim world and other places as well. \\n“American Umpire” hides these horrific transgressions and the imperial calculations behind much of U.S. foreign policy past and present. As numerous key U.S. planning documents reveal over and over, the goal of that policy was to maintain and, if necessary, install governments that “favor[ed] private investment of domestic and foreign capital, production for export, and the right to bring profits out of the country.” Given the United States’ remarkable possession of half the world’s capital after World War II, Washington elites had no doubt that U.S. investors and corporations would profit the most. Internally, the basic, selfish, national and imperial objectives were openly and candidly discussed. As the “liberal” and “dovish” imperialist, top State Department planner and key Cold War architect George F. Kennan explained in Policy Planning Study 23, a critical 1948 document: “We have about 50% of the world’s wealth, but only 6.3% of its population. … In this situation, we cannot fail to be the object of envy and resentment. Our real task in the coming period is to devise a pattern of relationships which will permit us to maintain this position of disparity. … To do so, we will have to dispense with all sentimentality and day-dreaming. ... The less we are then hampered by idealistic slogans, the better.” \\nThe necessity of dispensing with “human rights” and other “sentimental” and “unreal objectives” was especially pressing in the “global south.” Washington assigned the vast periphery of the world economic (capitalist) system—Africa, Latin America, Southeast Asia and the energy-rich and thus strategically hypersignificant Middle East—a less than flattering role. It was to “fulfill its major function as a source of raw materials and a market” ( actual State Department language ) for the great industrial (capitalist) nations (excluding “socialist” Russia and its satellites). It was to be exploited both for the benefit of U.S. corporations/investors and for the reconstruction of Europe and Japan as prosperous U.S. trading and investment partners organized on properly capitalist principles that were hostile to the Soviet bloc. \\n“Democracy” was fine as a slogan and benevolent, idealistic-sounding mission statement when it came to marketing this core, underlying, ultra-imperialist U.S. policy at home and abroad. Because most people in the “Third World” had no interest in neocolonial subordination and subscribed to what U.S. intelligence officials considered the heretical “idea that government has direct responsibility for the welfare of its people” (what post-World War II U.S. planners called “communism”), Washington’s real-life commitment to popular governance abroad was strictly qualified, to say the least. “Democracy” was suitable to the U.S. as long as its outcomes comported with the interests of U.S. investors/corporations and related U.S. geopolitical objectives. It had to be abandoned, undermined and/or crushed when it threatened those investors/corporations and the broader imperatives of business rule to any significant degree. As President Richard Nixon’s coldblooded National Security Adviser Henry Kissinger explained in June 1970, three years before the U.S. sponsored a fascist coup that overthrew Chile’s democratically elected leftist President Salvador Allende, “I don’t see why we need to stand by and watch a country go Communist because of the irresponsibility of its own people.” \\nThe selfish imperial cynicism of U.S. foreign policy continues to this day, into the post-Cold War and post-9/11 era. As leading Dutch political scientists Bastiaann van Apeldoorn and Nana de Graaff write in their important new volume , “American Grand Strategy and Corporate Elite Networks: The Open Door Since the End of the Cold War,” “From the end of the 19th nineteenth century onward, American grand strategy has pursued a liberal expansionism aimed at the creation of a global hegemony premised upon open, “free” markets, to which global capital—and, above all, U.S. transnational capital—has full access. … The global Open Door has continued to define the ends of the American grand strategy throughout the post-Cold War era.” Because—as during and before—the Cold War’s end, Washington’s commitment to “democracy” and “human rights” is conditional and hypocritical: The noble principles are fine insofar as they serve the free-market hegemony of global and especially U.S. transnational capital. They are dispensed with, even as U.S. policymakers trumpet them, when they do not.'\n",
    "\n",
    "]"
   ]
  },
  {
   "attachments": {},
   "cell_type": "markdown",
   "metadata": {},
   "source": [
    "Dropping them "
   ]
  },
  {
   "cell_type": "code",
   "execution_count": 117,
   "metadata": {},
   "outputs": [],
   "source": [
    "df.drop(index=[6330,6331], inplace=True)"
   ]
  },
  {
   "attachments": {},
   "cell_type": "markdown",
   "metadata": {},
   "source": [
    "# Splitting the Dataset"
   ]
  },
  {
   "cell_type": "code",
   "execution_count": 118,
   "metadata": {},
   "outputs": [],
   "source": [
    "from sklearn.model_selection import train_test_split\n",
    "\n",
    "X_train, X_test, y_train, y_test = train_test_split(df.text, df.label, test_size=.2, random_state=42)"
   ]
  },
  {
   "cell_type": "code",
   "execution_count": 119,
   "metadata": {},
   "outputs": [
    {
     "data": {
      "text/plain": [
       "6075    The Times said it picked Clinton over her top ...\n",
       "2153    Administrators at the popular online forum Red...\n",
       "1170    Taki's Magazine October 28, 2016 \\nThis electi...\n",
       "2063    Mothers whose children have been killed by pol...\n",
       "3656    Genius Kid Trolled White House Halloween Party...\n",
       "                              ...                        \n",
       "3772    What happened was less a debate among contende...\n",
       "5191    Clinton, FBIGate and the true depth of the Oba...\n",
       "5226    Fearing Election Day Trouble, Some US Schools ...\n",
       "5390    President Obama’s appearance at a town hall me...\n",
       "860     A man protests against international trade agr...\n",
       "Name: text, Length: 5066, dtype: object"
      ]
     },
     "execution_count": 119,
     "metadata": {},
     "output_type": "execute_result"
    }
   ],
   "source": [
    "X_train"
   ]
  },
  {
   "cell_type": "code",
   "execution_count": 120,
   "metadata": {},
   "outputs": [
    {
     "data": {
      "text/plain": [
       "5260    Share on Facebook Share on Twitter Human histo...\n",
       "2302    Assad Says The \"Boy In The Ambulance\" Is Fake ...\n",
       "4507      American Woman In Bikini Desecrates French C...\n",
       "5391    The Washington Post reported on Wednesday nigh...\n",
       "5007    The Clinton campaign reacted with yet another ...\n",
       "                              ...                        \n",
       "57      Political parties choose their presidential no...\n",
       "3580    Fights Over 'Religious Freedom' And Gay Rights...\n",
       "2949    The words Extraordinary Claims needs to be ban...\n",
       "292     Remember last fall, when pundits and politicia...\n",
       "1142    Donald Trump received a key endorsement for hi...\n",
       "Name: text, Length: 1267, dtype: object"
      ]
     },
     "execution_count": 120,
     "metadata": {},
     "output_type": "execute_result"
    }
   ],
   "source": [
    "X_test"
   ]
  },
  {
   "attachments": {},
   "cell_type": "markdown",
   "metadata": {},
   "source": [
    "# Vectorizing"
   ]
  },
  {
   "cell_type": "code",
   "execution_count": 121,
   "metadata": {},
   "outputs": [],
   "source": [
    "from sklearn.feature_extraction.text import CountVectorizer \n",
    "\n",
    "vectorizer = CountVectorizer().fit(X_train) \n",
    "\n",
    "X_train = vectorizer.transform(X_train) \n",
    "X_test = vectorizer.transform(X_test) "
   ]
  },
  {
   "cell_type": "code",
   "execution_count": 122,
   "metadata": {},
   "outputs": [
    {
     "data": {
      "text/plain": [
       "<5066x61278 sparse matrix of type '<class 'numpy.int64'>'\n",
       "\twith 1712779 stored elements in Compressed Sparse Row format>"
      ]
     },
     "execution_count": 122,
     "metadata": {},
     "output_type": "execute_result"
    }
   ],
   "source": [
    "X_train"
   ]
  },
  {
   "cell_type": "code",
   "execution_count": 123,
   "metadata": {},
   "outputs": [
    {
     "data": {
      "text/plain": [
       "<1267x61278 sparse matrix of type '<class 'numpy.int64'>'\n",
       "\twith 437471 stored elements in Compressed Sparse Row format>"
      ]
     },
     "execution_count": 123,
     "metadata": {},
     "output_type": "execute_result"
    }
   ],
   "source": [
    "X_test"
   ]
  },
  {
   "attachments": {},
   "cell_type": "markdown",
   "metadata": {},
   "source": [
    "# Model  \n",
    "\n",
    "It will be used a MultinomialNB"
   ]
  },
  {
   "cell_type": "code",
   "execution_count": 124,
   "metadata": {},
   "outputs": [
    {
     "data": {
      "text/html": [
       "<style>#sk-container-id-5 {color: black;background-color: white;}#sk-container-id-5 pre{padding: 0;}#sk-container-id-5 div.sk-toggleable {background-color: white;}#sk-container-id-5 label.sk-toggleable__label {cursor: pointer;display: block;width: 100%;margin-bottom: 0;padding: 0.3em;box-sizing: border-box;text-align: center;}#sk-container-id-5 label.sk-toggleable__label-arrow:before {content: \"▸\";float: left;margin-right: 0.25em;color: #696969;}#sk-container-id-5 label.sk-toggleable__label-arrow:hover:before {color: black;}#sk-container-id-5 div.sk-estimator:hover label.sk-toggleable__label-arrow:before {color: black;}#sk-container-id-5 div.sk-toggleable__content {max-height: 0;max-width: 0;overflow: hidden;text-align: left;background-color: #f0f8ff;}#sk-container-id-5 div.sk-toggleable__content pre {margin: 0.2em;color: black;border-radius: 0.25em;background-color: #f0f8ff;}#sk-container-id-5 input.sk-toggleable__control:checked~div.sk-toggleable__content {max-height: 200px;max-width: 100%;overflow: auto;}#sk-container-id-5 input.sk-toggleable__control:checked~label.sk-toggleable__label-arrow:before {content: \"▾\";}#sk-container-id-5 div.sk-estimator input.sk-toggleable__control:checked~label.sk-toggleable__label {background-color: #d4ebff;}#sk-container-id-5 div.sk-label input.sk-toggleable__control:checked~label.sk-toggleable__label {background-color: #d4ebff;}#sk-container-id-5 input.sk-hidden--visually {border: 0;clip: rect(1px 1px 1px 1px);clip: rect(1px, 1px, 1px, 1px);height: 1px;margin: -1px;overflow: hidden;padding: 0;position: absolute;width: 1px;}#sk-container-id-5 div.sk-estimator {font-family: monospace;background-color: #f0f8ff;border: 1px dotted black;border-radius: 0.25em;box-sizing: border-box;margin-bottom: 0.5em;}#sk-container-id-5 div.sk-estimator:hover {background-color: #d4ebff;}#sk-container-id-5 div.sk-parallel-item::after {content: \"\";width: 100%;border-bottom: 1px solid gray;flex-grow: 1;}#sk-container-id-5 div.sk-label:hover label.sk-toggleable__label {background-color: #d4ebff;}#sk-container-id-5 div.sk-serial::before {content: \"\";position: absolute;border-left: 1px solid gray;box-sizing: border-box;top: 0;bottom: 0;left: 50%;z-index: 0;}#sk-container-id-5 div.sk-serial {display: flex;flex-direction: column;align-items: center;background-color: white;padding-right: 0.2em;padding-left: 0.2em;position: relative;}#sk-container-id-5 div.sk-item {position: relative;z-index: 1;}#sk-container-id-5 div.sk-parallel {display: flex;align-items: stretch;justify-content: center;background-color: white;position: relative;}#sk-container-id-5 div.sk-item::before, #sk-container-id-5 div.sk-parallel-item::before {content: \"\";position: absolute;border-left: 1px solid gray;box-sizing: border-box;top: 0;bottom: 0;left: 50%;z-index: -1;}#sk-container-id-5 div.sk-parallel-item {display: flex;flex-direction: column;z-index: 1;position: relative;background-color: white;}#sk-container-id-5 div.sk-parallel-item:first-child::after {align-self: flex-end;width: 50%;}#sk-container-id-5 div.sk-parallel-item:last-child::after {align-self: flex-start;width: 50%;}#sk-container-id-5 div.sk-parallel-item:only-child::after {width: 0;}#sk-container-id-5 div.sk-dashed-wrapped {border: 1px dashed gray;margin: 0 0.4em 0.5em 0.4em;box-sizing: border-box;padding-bottom: 0.4em;background-color: white;}#sk-container-id-5 div.sk-label label {font-family: monospace;font-weight: bold;display: inline-block;line-height: 1.2em;}#sk-container-id-5 div.sk-label-container {text-align: center;}#sk-container-id-5 div.sk-container {/* jupyter's `normalize.less` sets `[hidden] { display: none; }` but bootstrap.min.css set `[hidden] { display: none !important; }` so we also need the `!important` here to be able to override the default hidden behavior on the sphinx rendered scikit-learn.org. See: https://github.com/scikit-learn/scikit-learn/issues/21755 */display: inline-block !important;position: relative;}#sk-container-id-5 div.sk-text-repr-fallback {display: none;}</style><div id=\"sk-container-id-5\" class=\"sk-top-container\"><div class=\"sk-text-repr-fallback\"><pre>MultinomialNB()</pre><b>In a Jupyter environment, please rerun this cell to show the HTML representation or trust the notebook. <br />On GitHub, the HTML representation is unable to render, please try loading this page with nbviewer.org.</b></div><div class=\"sk-container\" hidden><div class=\"sk-item\"><div class=\"sk-estimator sk-toggleable\"><input class=\"sk-toggleable__control sk-hidden--visually\" id=\"sk-estimator-id-5\" type=\"checkbox\" checked><label for=\"sk-estimator-id-5\" class=\"sk-toggleable__label sk-toggleable__label-arrow\">MultinomialNB</label><div class=\"sk-toggleable__content\"><pre>MultinomialNB()</pre></div></div></div></div></div>"
      ],
      "text/plain": [
       "MultinomialNB()"
      ]
     },
     "execution_count": 124,
     "metadata": {},
     "output_type": "execute_result"
    }
   ],
   "source": [
    "from sklearn.naive_bayes import MultinomialNB \n",
    "\n",
    "model = MultinomialNB()\n",
    "\n",
    "model.fit(X_train, y_train)"
   ]
  },
  {
   "attachments": {},
   "cell_type": "markdown",
   "metadata": {},
   "source": [
    "Checking the score "
   ]
  },
  {
   "cell_type": "code",
   "execution_count": 125,
   "metadata": {},
   "outputs": [
    {
     "name": "stdout",
     "output_type": "stream",
     "text": [
      "              precision    recall  f1-score   support\n",
      "\n",
      "           0       0.86      0.93      0.89       626\n",
      "           1       0.92      0.86      0.89       641\n",
      "\n",
      "    accuracy                           0.89      1267\n",
      "   macro avg       0.89      0.89      0.89      1267\n",
      "weighted avg       0.89      0.89      0.89      1267\n",
      "\n"
     ]
    }
   ],
   "source": [
    "from sklearn.metrics import classification_report \n",
    "\n",
    "print(classification_report(y_test, model.predict(X_test)))"
   ]
  },
  {
   "attachments": {},
   "cell_type": "markdown",
   "metadata": {},
   "source": [
    "# Testing on the Stored Emails"
   ]
  },
  {
   "cell_type": "code",
   "execution_count": 126,
   "metadata": {},
   "outputs": [],
   "source": [
    "def fake_news(text):\n",
    "    text_series = pd.Series(text) \n",
    "    text_vectorized = vectorizer.transform(text_series)\n",
    "    preds = model.predict(text_vectorized)\n",
    "    probs = model.predict_proba(text_vectorized)[:,1]\n",
    "    final_df = pd.DataFrame({'Text': text_series, 'Label':preds, 'Is_Fake_Proba':probs})\n",
    "    return final_df"
   ]
  },
  {
   "cell_type": "code",
   "execution_count": 127,
   "metadata": {},
   "outputs": [
    {
     "data": {
      "text/html": [
       "<div>\n",
       "<style scoped>\n",
       "    .dataframe tbody tr th:only-of-type {\n",
       "        vertical-align: middle;\n",
       "    }\n",
       "\n",
       "    .dataframe tbody tr th {\n",
       "        vertical-align: top;\n",
       "    }\n",
       "\n",
       "    .dataframe thead th {\n",
       "        text-align: right;\n",
       "    }\n",
       "</style>\n",
       "<table border=\"1\" class=\"dataframe\">\n",
       "  <thead>\n",
       "    <tr style=\"text-align: right;\">\n",
       "      <th></th>\n",
       "      <th>Text</th>\n",
       "      <th>Label</th>\n",
       "      <th>Is_Fake_Proba</th>\n",
       "    </tr>\n",
       "  </thead>\n",
       "  <tbody>\n",
       "    <tr>\n",
       "      <th>0</th>\n",
       "      <td>The State Department told the Republican Natio...</td>\n",
       "      <td>0</td>\n",
       "      <td>2.395633e-43</td>\n",
       "    </tr>\n",
       "    <tr>\n",
       "      <th>1</th>\n",
       "      <td>The ‘P’ in PBS Should Stand for ‘Plutocratic’ ...</td>\n",
       "      <td>1</td>\n",
       "      <td>1.000000e+00</td>\n",
       "    </tr>\n",
       "  </tbody>\n",
       "</table>\n",
       "</div>"
      ],
      "text/plain": [
       "                                                Text  Label  Is_Fake_Proba\n",
       "0  The State Department told the Republican Natio...      0   2.395633e-43\n",
       "1  The ‘P’ in PBS Should Stand for ‘Plutocratic’ ...      1   1.000000e+00"
      ]
     },
     "execution_count": 127,
     "metadata": {},
     "output_type": "execute_result"
    }
   ],
   "source": [
    "fake_news(news)"
   ]
  },
  {
   "attachments": {},
   "cell_type": "markdown",
   "metadata": {},
   "source": [
    "This is only my first approach to the NLP, hoping to understand it better and apply it to many different use cases."
   ]
  }
 ],
 "metadata": {
  "kernelspec": {
   "display_name": "Python 3",
   "language": "python",
   "name": "python3"
  },
  "language_info": {
   "codemirror_mode": {
    "name": "ipython",
    "version": 3
   },
   "file_extension": ".py",
   "mimetype": "text/x-python",
   "name": "python",
   "nbconvert_exporter": "python",
   "pygments_lexer": "ipython3",
   "version": "3.10.2"
  },
  "orig_nbformat": 4
 },
 "nbformat": 4,
 "nbformat_minor": 2
}
